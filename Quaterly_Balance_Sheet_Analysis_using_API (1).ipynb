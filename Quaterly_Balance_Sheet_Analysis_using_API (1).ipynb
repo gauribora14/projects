{
  "nbformat": 4,
  "nbformat_minor": 0,
  "metadata": {
    "colab": {
      "provenance": []
    },
    "kernelspec": {
      "name": "python3",
      "display_name": "Python 3"
    },
    "language_info": {
      "name": "python"
    }
  },
  "cells": [
    {
      "cell_type": "code",
      "execution_count": null,
      "metadata": {
        "id": "LL5a5K2LTPk1"
      },
      "outputs": [],
      "source": [
        "import requests\n",
        "import matplotlib.pyplot as plt\n",
        "import json\n",
        "import html\n",
        "import os\n"
      ]
    },
    {
      "cell_type": "code",
      "source": [
        "api_key_file = open(os.getcwd() + \"/key.json\")\n",
        "key_dict = json.load(api_key_file)\n",
        "api_key = key_dict[\"api_key\"]\n"
      ],
      "metadata": {
        "id": "t67TtA0STSsP"
      },
      "execution_count": null,
      "outputs": []
    },
    {
      "cell_type": "code",
      "source": [
        "company=\"MSFT\"\n",
        "years=5\n",
        "\n"
      ],
      "metadata": {
        "id": "zL11OThpTWqQ"
      },
      "execution_count": null,
      "outputs": []
    },
    {
      "cell_type": "code",
      "source": [
        "balance_sheet=requests.get(f'https://financialmodelingprep.com/api/v3/balance-sheet-statement/{company}?period=quarterly&limit{years}&apikey={api_key}')\n",
        "print(balance_sheet.json())\n"
      ],
      "metadata": {
        "colab": {
          "base_uri": "https://localhost:8080/"
        },
        "id": "xXj9dctMUNPT",
        "outputId": "4bad1984-76f1-4c5a-e98c-9f1a66e46967"
      },
      "execution_count": 75,
      "outputs": [
        {
          "output_type": "stream",
          "name": "stdout",
          "text": [
            "[{'date': '2022-06-30', 'symbol': 'MSFT', 'reportedCurrency': 'USD', 'cik': '0000789019', 'fillingDate': '2022-07-28', 'acceptedDate': '2022-07-28 16:06:19', 'calendarYear': '2022', 'period': 'FY', 'cashAndCashEquivalents': 13931000000, 'shortTermInvestments': 90818000000, 'cashAndShortTermInvestments': 104749000000, 'netReceivables': 44261000000, 'inventory': 3742000000, 'otherCurrentAssets': 16932000000, 'totalCurrentAssets': 169684000000, 'propertyPlantEquipmentNet': 87546000000, 'goodwill': 67524000000, 'intangibleAssets': 11298000000, 'goodwillAndIntangibleAssets': 78822000000, 'longTermInvestments': 6891000000, 'taxAssets': 0, 'otherNonCurrentAssets': 21897000000, 'totalNonCurrentAssets': 195156000000, 'otherAssets': 0, 'totalAssets': 364840000000, 'accountPayables': 19000000000, 'shortTermDebt': 2749000000, 'taxPayables': 4067000000, 'deferredRevenue': 45538000000, 'otherCurrentLiabilities': 23728000000, 'totalCurrentLiabilities': 95082000000, 'longTermDebt': 58521000000, 'deferredRevenueNonCurrent': 2870000000, 'deferredTaxLiabilitiesNonCurrent': 230000000, 'otherNonCurrentLiabilities': 41595000000, 'totalNonCurrentLiabilities': 103216000000, 'otherLiabilities': 0, 'capitalLeaseObligations': 11489000000, 'totalLiabilities': 198298000000, 'preferredStock': 0, 'commonStock': 86939000000, 'retainedEarnings': 84281000000, 'accumulatedOtherComprehensiveIncomeLoss': -4678000000, 'othertotalStockholdersEquity': 0, 'totalStockholdersEquity': 166542000000, 'totalLiabilitiesAndStockholdersEquity': 364840000000, 'minorityInterest': 0, 'totalEquity': 166542000000, 'totalLiabilitiesAndTotalEquity': 364840000000, 'totalInvestments': 97709000000, 'totalDebt': 61270000000, 'netDebt': 47339000000, 'link': 'https://www.sec.gov/Archives/edgar/data/789019/000156459022026876/0001564590-22-026876-index.htm', 'finalLink': 'https://www.sec.gov/Archives/edgar/data/789019/000156459022026876/msft-10k_20220630.htm'}, {'date': '2021-06-30', 'symbol': 'MSFT', 'reportedCurrency': 'USD', 'cik': '0000789019', 'fillingDate': '2021-07-29', 'acceptedDate': '2021-07-29 16:21:55', 'calendarYear': '2021', 'period': 'FY', 'cashAndCashEquivalents': 14224000000, 'shortTermInvestments': 116110000000, 'cashAndShortTermInvestments': 130334000000, 'netReceivables': 38043000000, 'inventory': 2636000000, 'otherCurrentAssets': 13393000000, 'totalCurrentAssets': 184406000000, 'propertyPlantEquipmentNet': 70803000000, 'goodwill': 49711000000, 'intangibleAssets': 7800000000, 'goodwillAndIntangibleAssets': 57511000000, 'longTermInvestments': 5984000000, 'taxAssets': 0, 'otherNonCurrentAssets': 15075000000, 'totalNonCurrentAssets': 149373000000, 'otherAssets': 0, 'totalAssets': 333779000000, 'accountPayables': 15163000000, 'shortTermDebt': 8072000000, 'taxPayables': 2174000000, 'deferredRevenue': 41525000000, 'otherCurrentLiabilities': 21723000000, 'totalCurrentLiabilities': 88657000000, 'longTermDebt': 59703000000, 'deferredRevenueNonCurrent': 2616000000, 'deferredTaxLiabilitiesNonCurrent': 198000000, 'otherNonCurrentLiabilities': 40617000000, 'totalNonCurrentLiabilities': 103134000000, 'otherLiabilities': 0, 'capitalLeaseObligations': 9629000000, 'totalLiabilities': 191791000000, 'preferredStock': 0, 'commonStock': 83111000000, 'retainedEarnings': 57055000000, 'accumulatedOtherComprehensiveIncomeLoss': 1822000000, 'othertotalStockholdersEquity': 0, 'totalStockholdersEquity': 141988000000, 'totalLiabilitiesAndStockholdersEquity': 333779000000, 'minorityInterest': 0, 'totalEquity': 141988000000, 'totalLiabilitiesAndTotalEquity': 333779000000, 'totalInvestments': 122094000000, 'totalDebt': 67775000000, 'netDebt': 53551000000, 'link': 'https://www.sec.gov/Archives/edgar/data/789019/000156459021039151/0001564590-21-039151-index.htm', 'finalLink': 'https://www.sec.gov/Archives/edgar/data/789019/000156459021039151/msft-10k_20210630.htm'}, {'date': '2020-06-30', 'symbol': 'MSFT', 'reportedCurrency': 'USD', 'cik': '0000789019', 'fillingDate': '2020-07-30', 'acceptedDate': '2020-07-30 20:44:46', 'calendarYear': '2020', 'period': 'FY', 'cashAndCashEquivalents': 13576000000, 'shortTermInvestments': 122951000000, 'cashAndShortTermInvestments': 136527000000, 'netReceivables': 32011000000, 'inventory': 1895000000, 'otherCurrentAssets': 11482000000, 'totalCurrentAssets': 181915000000, 'propertyPlantEquipmentNet': 52904000000, 'goodwill': 43351000000, 'intangibleAssets': 7038000000, 'goodwillAndIntangibleAssets': 50389000000, 'longTermInvestments': 2965000000, 'taxAssets': 0, 'otherNonCurrentAssets': 13138000000, 'totalNonCurrentAssets': 119396000000, 'otherAssets': 0, 'totalAssets': 301311000000, 'accountPayables': 12530000000, 'shortTermDebt': 3749000000, 'taxPayables': 2130000000, 'deferredRevenue': 36000000000, 'otherCurrentLiabilities': 17901000000, 'totalCurrentLiabilities': 72310000000, 'longTermDebt': 67249000000, 'deferredRevenueNonCurrent': 3180000000, 'deferredTaxLiabilitiesNonCurrent': 204000000, 'otherNonCurrentLiabilities': 40064000000, 'totalNonCurrentLiabilities': 110697000000, 'otherLiabilities': 0, 'capitalLeaseObligations': 7671000000, 'totalLiabilities': 183007000000, 'preferredStock': 0, 'commonStock': 80552000000, 'retainedEarnings': 34566000000, 'accumulatedOtherComprehensiveIncomeLoss': 3186000000, 'othertotalStockholdersEquity': 0, 'totalStockholdersEquity': 118304000000, 'totalLiabilitiesAndStockholdersEquity': 301311000000, 'minorityInterest': 0, 'totalEquity': 118304000000, 'totalLiabilitiesAndTotalEquity': 301311000000, 'totalInvestments': 125916000000, 'totalDebt': 70998000000, 'netDebt': 57422000000, 'link': 'https://www.sec.gov/Archives/edgar/data/789019/000156459020034944/0001564590-20-034944-index.htm', 'finalLink': 'https://www.sec.gov/Archives/edgar/data/789019/000156459020034944/msft-10k_20200630.htm'}, {'date': '2019-06-30', 'symbol': 'MSFT', 'reportedCurrency': 'USD', 'cik': '0000789019', 'fillingDate': '2019-08-01', 'acceptedDate': '2019-08-01 16:09:55', 'calendarYear': '2019', 'period': 'FY', 'cashAndCashEquivalents': 11356000000, 'shortTermInvestments': 122463000000, 'cashAndShortTermInvestments': 133819000000, 'netReceivables': 29524000000, 'inventory': 2063000000, 'otherCurrentAssets': 10146000000, 'totalCurrentAssets': 175552000000, 'propertyPlantEquipmentNet': 43856000000, 'goodwill': 42026000000, 'intangibleAssets': 7750000000, 'goodwillAndIntangibleAssets': 49776000000, 'longTermInvestments': 2649000000, 'taxAssets': 0, 'otherNonCurrentAssets': 14723000000, 'totalNonCurrentAssets': 111004000000, 'otherAssets': 0, 'totalAssets': 286556000000, 'accountPayables': 9382000000, 'shortTermDebt': 5516000000, 'taxPayables': 5665000000, 'deferredRevenue': 32676000000, 'otherCurrentLiabilities': 16181000000, 'totalCurrentLiabilities': 69420000000, 'longTermDebt': 72850000000, 'deferredRevenueNonCurrent': 4530000000, 'deferredTaxLiabilitiesNonCurrent': 233000000, 'otherNonCurrentLiabilities': 37193000000, 'totalNonCurrentLiabilities': 114806000000, 'otherLiabilities': 0, 'capitalLeaseObligations': 6188000000, 'totalLiabilities': 184226000000, 'preferredStock': 0, 'commonStock': 78520000000, 'retainedEarnings': 24150000000, 'accumulatedOtherComprehensiveIncomeLoss': -340000000, 'othertotalStockholdersEquity': 0, 'totalStockholdersEquity': 102330000000, 'totalLiabilitiesAndStockholdersEquity': 286556000000, 'minorityInterest': 0, 'totalEquity': 102330000000, 'totalLiabilitiesAndTotalEquity': 286556000000, 'totalInvestments': 125112000000, 'totalDebt': 78366000000, 'netDebt': 67010000000, 'link': 'https://www.sec.gov/Archives/edgar/data/789019/000156459019027952/0001564590-19-027952-index.htm', 'finalLink': 'https://www.sec.gov/Archives/edgar/data/789019/000156459019027952/msft-10k_20190630.htm'}, {'date': '2018-06-30', 'symbol': 'MSFT', 'reportedCurrency': 'USD', 'cik': '0000789019', 'fillingDate': '2018-08-03', 'acceptedDate': '2018-08-03 11:03:33', 'calendarYear': '2018', 'period': 'FY', 'cashAndCashEquivalents': 11946000000, 'shortTermInvestments': 121822000000, 'cashAndShortTermInvestments': 133768000000, 'netReceivables': 26481000000, 'inventory': 2662000000, 'otherCurrentAssets': 6751000000, 'totalCurrentAssets': 169662000000, 'propertyPlantEquipmentNet': 36146000000, 'goodwill': 35683000000, 'intangibleAssets': 8053000000, 'goodwillAndIntangibleAssets': 43736000000, 'longTermInvestments': 1862000000, 'taxAssets': 0, 'otherNonCurrentAssets': 7442000000, 'totalNonCurrentAssets': 89186000000, 'otherAssets': 0, 'totalAssets': 258848000000, 'accountPayables': 8617000000, 'shortTermDebt': 3998000000, 'taxPayables': 2121000000, 'deferredRevenue': 28905000000, 'otherCurrentLiabilities': 14847000000, 'totalCurrentLiabilities': 58488000000, 'longTermDebt': 77810000000, 'deferredRevenueNonCurrent': 3815000000, 'deferredTaxLiabilitiesNonCurrent': 541000000, 'otherNonCurrentLiabilities': 35476000000, 'totalNonCurrentLiabilities': 117642000000, 'otherLiabilities': 0, 'capitalLeaseObligations': 5568000000, 'totalLiabilities': 176130000000, 'preferredStock': 0, 'commonStock': 71223000000, 'retainedEarnings': 13682000000, 'accumulatedOtherComprehensiveIncomeLoss': -2187000000, 'othertotalStockholdersEquity': 0, 'totalStockholdersEquity': 82718000000, 'totalLiabilitiesAndStockholdersEquity': 258848000000, 'minorityInterest': 0, 'totalEquity': 82718000000, 'totalLiabilitiesAndTotalEquity': 258848000000, 'totalInvestments': 123684000000, 'totalDebt': 81808000000, 'netDebt': 69862000000, 'link': 'https://www.sec.gov/Archives/edgar/data/789019/000156459018019062/0001564590-18-019062-index.htm', 'finalLink': 'https://www.sec.gov/Archives/edgar/data/789019/000156459018019062/msft-10k_20180630.htm'}]\n"
          ]
        }
      ]
    },
    {
      "cell_type": "code",
      "source": [
        "balancesheet1=balance_sheet.json()"
      ],
      "metadata": {
        "id": "QI6U9v3aUcrO"
      },
      "execution_count": null,
      "outputs": []
    },
    {
      "cell_type": "code",
      "source": [
        "assets_q1=balancesheet1[4]['totalAssets']\n",
        "assets_q2=balancesheet1[3]['totalAssets']\n",
        "assets_q3=balancesheet1[2]['totalAssets']\n",
        "assets_q4=balancesheet1[1]['totalAssets']\n",
        "\n",
        "assets_data=[assets_q1,assets_q2,assets_q3,assets_q4]\n",
        "assets_data=[x/1000000000 for x in assets_data]\n"
      ],
      "metadata": {
        "id": "OzBP_vsLUhaD"
      },
      "execution_count": 71,
      "outputs": []
    },
    {
      "cell_type": "code",
      "source": [
        "plt.bar([1,2,3,4],assets_data)\n",
        "plt.title(f\"Quaterly Assets of {company}\")\n",
        "plt.xlabel(\"Quarters\")\n",
        "plt.ylabel(\"Total Assets(in Billions USD)\")\n",
        "plt.xticks ([1,2,3,4],['Q1','Q2','Q3','Q4'])\n",
        "plt.show"
      ],
      "metadata": {
        "colab": {
          "base_uri": "https://localhost:8080/",
          "height": 313
        },
        "id": "NJt2xPrLc3yS",
        "outputId": "aeb6de73-c295-42ec-90f5-263e5bb050f9"
      },
      "execution_count": 73,
      "outputs": [
        {
          "output_type": "execute_result",
          "data": {
            "text/plain": [
              "<function matplotlib.pyplot.show(*args, **kw)>"
            ]
          },
          "metadata": {},
          "execution_count": 73
        },
        {
          "output_type": "display_data",
          "data": {
            "text/plain": [
              "<Figure size 432x288 with 1 Axes>"
            ],
            "image/png": "[encoded data removed]"
          },
          "metadata": {
            "needs_background": "light"
          }
        }
      ]
    }
  ]
}